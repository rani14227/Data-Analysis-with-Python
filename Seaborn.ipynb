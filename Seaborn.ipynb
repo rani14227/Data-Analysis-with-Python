{
  "metadata": {
    "kernelspec": {
      "name": "python",
      "display_name": "Python (Pyodide)",
      "language": "python"
    },
    "language_info": {
      "codemirror_mode": {
        "name": "ipython",
        "version": 3
      },
      "file_extension": ".py",
      "mimetype": "text/x-python",
      "name": "python",
      "nbconvert_exporter": "python",
      "pygments_lexer": "ipython3",
      "version": "3.12.0"
    }
  },
  "nbformat_minor": 4,
  "nbformat": 4,
  "cells": [
    {
      "cell_type": "markdown",
      "source": "#### Data Visualization With Seaborn\nSeaborn is a Python visualization library based on Matplotlib that provides a high-level interface for drawing attractive and informative statistical graphics. Seaborn helps in creating complex visualizations with just a few lines of code. In this lesson, we will cover the basics of Seaborn, including creating various types of plots and customizing them. ",
      "metadata": {}
    },
    {
      "cell_type": "code",
      "source": "!pip install seaborn",
      "metadata": {
        "trusted": true
      },
      "outputs": [],
      "execution_count": null
    },
    {
      "cell_type": "code",
      "source": "import seaborn as sns",
      "metadata": {
        "trusted": true
      },
      "outputs": [],
      "execution_count": null
    },
    {
      "cell_type": "code",
      "source": "### Basic Plotting With Seaborn\ntips=sns.load_dataset('tips')\ntips",
      "metadata": {
        "trusted": true
      },
      "outputs": [],
      "execution_count": null
    },
    {
      "cell_type": "code",
      "source": "##create a scatter plot\nimport matplotlib.pyplot as plt\n\nsns.scatterplot(x='total_bill',y='tip',data=tips)\nplt.title(\"Scatter Plot of Total Bill vs Tip\")\nplt.show()",
      "metadata": {
        "trusted": true
      },
      "outputs": [],
      "execution_count": null
    },
    {
      "cell_type": "code",
      "source": "## Line Plot\n\nsns.lineplot(x='size',y='total_bill',data=tips)\nplt.title(\"Line Plot of Total bill by size\")\nplt.show()",
      "metadata": {
        "trusted": true
      },
      "outputs": [],
      "execution_count": null
    },
    {
      "cell_type": "code",
      "source": "## Categorical Plots\n## BAr Plot\nsns.barplot(x='day',y='total_bill',data=tips)\nplt.title('Bar Plot of Total Bill By Day')\nplt.show()",
      "metadata": {
        "trusted": true
      },
      "outputs": [],
      "execution_count": null
    },
    {
      "cell_type": "code",
      "source": "## Box Plot\nsns.boxplot(x=\"day\",y='total_bill',data=tips)",
      "metadata": {
        "trusted": true
      },
      "outputs": [],
      "execution_count": null
    },
    {
      "cell_type": "code",
      "source": "## Violin Plot\n\nsns.violinplot(x='day',y='total_bill',data=tips)",
      "metadata": {
        "trusted": true
      },
      "outputs": [],
      "execution_count": null
    },
    {
      "cell_type": "code",
      "source": "### Histograms\nsns.histplot(tips['total_bill'],bins=10,kde=True)",
      "metadata": {
        "trusted": true
      },
      "outputs": [],
      "execution_count": null
    },
    {
      "cell_type": "code",
      "source": "## KDE Plot\nsns.kdeplot(tips['total_bill'],fill=True)",
      "metadata": {
        "trusted": true
      },
      "outputs": [],
      "execution_count": null
    },
    {
      "cell_type": "code",
      "source": "# Pairplot\nsns.pairplot(tips)",
      "metadata": {
        "trusted": true
      },
      "outputs": [],
      "execution_count": null
    },
    {
      "cell_type": "code",
      "source": "tips",
      "metadata": {
        "trusted": true
      },
      "outputs": [],
      "execution_count": null
    },
    {
      "cell_type": "code",
      "source": "## HEatmap\ncorr=tips[['total_bill','tip','size']].corr()\ncorr",
      "metadata": {
        "trusted": true
      },
      "outputs": [],
      "execution_count": null
    },
    {
      "cell_type": "code",
      "source": "sns.heatmap(corr,annot=True,cmap='coolwarm')\n",
      "metadata": {
        "trusted": true
      },
      "outputs": [],
      "execution_count": null
    },
    {
      "cell_type": "code",
      "source": "import pandas as pd\nsales_df=pd.read_csv('sales_data.csv')\nsales_df.head()",
      "metadata": {
        "trusted": true
      },
      "outputs": [],
      "execution_count": null
    },
    {
      "cell_type": "code",
      "source": "## Plot total sales by product\nplt.figure(figsize=(10,6))\nsns.barplot(x='Product Category',y=\"Total Revenue\",data=sales_df,estimator=sum)\nplt.title('Total Sales by Product')\nplt.xlabel('Product')\nplt.ylabel('Total Sales')\nplt.show()",
      "metadata": {
        "trusted": true
      },
      "outputs": [],
      "execution_count": null
    },
    {
      "cell_type": "code",
      "source": "## Plot total sales by Region\nplt.figure(figsize=(10,6))\nsns.barplot(x='Region',y=\"Total Revenue\",data=sales_df,estimator=sum)\nplt.title('Total Sales by Region')\nplt.xlabel('Region')\nplt.ylabel('Total Sales')\nplt.show()",
      "metadata": {
        "trusted": true
      },
      "outputs": [],
      "execution_count": null
    },
    {
      "cell_type": "code",
      "source": "",
      "metadata": {
        "trusted": true
      },
      "outputs": [],
      "execution_count": null
    }
  ]
}