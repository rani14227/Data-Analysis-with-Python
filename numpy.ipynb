{
  "metadata": {
    "kernelspec": {
      "name": "python",
      "display_name": "Python (Pyodide)",
      "language": "python"
    },
    "language_info": {
      "codemirror_mode": {
        "name": "ipython",
        "version": 3
      },
      "file_extension": ".py",
      "mimetype": "text/x-python",
      "name": "python",
      "nbconvert_exporter": "python",
      "pygments_lexer": "ipython3",
      "version": "3.12.0"
    }
  },
  "nbformat_minor": 4,
  "nbformat": 4,
  "cells": [
    {
      "cell_type": "markdown",
      "source": "#### Numpy\nNumPy is a fundamental library for scientific computing in Python. It provides support for arrays and matrices, along with a collection of mathematical functions to operate on these data structures. In this lesson, we will cover the basics of NumPy, focusing on arrays and vectorized operations.",
      "metadata": {}
    },
    {
      "cell_type": "code",
      "source": "!pip install numpy",
      "metadata": {
        "trusted": true
      },
      "outputs": [],
      "execution_count": null
    },
    {
      "cell_type": "code",
      "source": "import numpy as np\n\n## create array using numpy\n##create a 1D array\narr1=np.array([1,2,3,4,5])\nprint(arr1)\nprint(type(arr1))\nprint(arr1.shape)",
      "metadata": {
        "trusted": true
      },
      "outputs": [],
      "execution_count": null
    },
    {
      "cell_type": "code",
      "source": "## 1 d array\narr2=np.array([1,2,3,4,5])\narr2.reshape(1,5)  ##1 row and 5 columns",
      "metadata": {
        "trusted": true
      },
      "outputs": [],
      "execution_count": null
    },
    {
      "cell_type": "code",
      "source": "arr2=np.array([[1,2,3,4,5]])\narr2.shape",
      "metadata": {
        "trusted": true
      },
      "outputs": [],
      "execution_count": null
    },
    {
      "cell_type": "code",
      "source": "## 2d array\narr2=np.array([[1,2,3,4,5],[2,3,4,5,6]])\nprint(arr2)\nprint(arr2.shape)",
      "metadata": {
        "trusted": true
      },
      "outputs": [],
      "execution_count": null
    },
    {
      "cell_type": "code",
      "source": "np.arange(0,10,2).reshape(5,1)",
      "metadata": {
        "trusted": true
      },
      "outputs": [],
      "execution_count": null
    },
    {
      "cell_type": "code",
      "source": "np.ones((3,4))",
      "metadata": {
        "trusted": true
      },
      "outputs": [],
      "execution_count": null
    },
    {
      "cell_type": "code",
      "source": "## identity matrix\nnp.eye(3)",
      "metadata": {
        "trusted": true
      },
      "outputs": [],
      "execution_count": null
    },
    {
      "cell_type": "code",
      "source": "## Attributes of Numpy Array\narr = np.array([[1, 2, 3], [4, 5, 6]])\n\nprint(\"Array:\\n\", arr)\nprint(\"Shape:\", arr.shape)  # Output: (2, 3)\nprint(\"Number of dimensions:\", arr.ndim)  # Output: 2\nprint(\"Size (number of elements):\", arr.size)  # Output: 6\nprint(\"Data type:\", arr.dtype)  # Output: int32 (may vary based on platform)\nprint(\"Item size (in bytes):\", arr.itemsize)  # Output: 8 (may vary based on platform)\n",
      "metadata": {
        "trusted": true
      },
      "outputs": [],
      "execution_count": null
    },
    {
      "cell_type": "code",
      "source": "### Numpy Vectorized Operation\narr1=np.array([1,2,3,4,5])\narr2=np.array([10,20,30,40,50])\n\n### Element Wise addition\nprint(\"Addition:\", arr1+arr2)\n\n## Element Wise Substraction\nprint(\"Substraction:\", arr1-arr2)\n\n# Element-wise multiplication\nprint(\"Multiplication:\", arr1 * arr2)\n\n# Element-wise division\nprint(\"Division:\", arr1 / arr2)",
      "metadata": {
        "trusted": true
      },
      "outputs": [],
      "execution_count": null
    },
    {
      "cell_type": "code",
      "source": "## Universal Function\narr=np.array([2,3,4,5,6])\n## square root\nprint(np.sqrt(arr))\n\n## Exponential\nprint(np.exp(arr))\n\n## Sine\nprint(np.sin(arr))\n\n## natural log\nprint(np.log(arr))",
      "metadata": {
        "trusted": true
      },
      "outputs": [],
      "execution_count": null
    },
    {
      "cell_type": "code",
      "source": "## array slicing and Indexing\n\narr=np.array([[1,2,3,4],[5,6,7,8],[9,10,11,12]])\nprint(\"Array : \\n\", arr)\n\n",
      "metadata": {
        "trusted": true
      },
      "outputs": [],
      "execution_count": null
    },
    {
      "cell_type": "code",
      "source": "print(arr[1:,1:3])",
      "metadata": {
        "trusted": true
      },
      "outputs": [],
      "execution_count": null
    },
    {
      "cell_type": "code",
      "source": "print(arr[0][0])\nprint(arr[0:2,2:])",
      "metadata": {
        "trusted": true
      },
      "outputs": [],
      "execution_count": null
    },
    {
      "cell_type": "code",
      "source": "arr[1:,2:]",
      "metadata": {
        "trusted": true
      },
      "outputs": [],
      "execution_count": null
    },
    {
      "cell_type": "code",
      "source": "## Modify array elements\narr[0,0]=100\nprint(arr)",
      "metadata": {
        "trusted": true
      },
      "outputs": [],
      "execution_count": null
    },
    {
      "cell_type": "code",
      "source": "arr[1:]=100\nprint(arr)",
      "metadata": {
        "trusted": true
      },
      "outputs": [],
      "execution_count": null
    },
    {
      "cell_type": "code",
      "source": "### statistical concepts--Normalization\n##to have a mean of 0 and standard deviation of 1\ndata = np.array([1, 2, 3, 4, 5])\n\n# Calculate the mean and standard deviation\nmean = np.mean(data)\nstd_dev = np.std(data)\n\n# Normalize the data\nnormalized_data = (data - mean) / std_dev\nprint(\"Normalized data:\", normalized_data)\n\n",
      "metadata": {
        "trusted": true
      },
      "outputs": [],
      "execution_count": null
    },
    {
      "cell_type": "code",
      "source": "data = np.array([1, 2, 3, 4, 5, 6, 7, 8, 9, 10])\n\n# Mean\nmean = np.mean(data)\nprint(\"Mean:\", mean)\n\n# Median\nmedian = np.median(data)\nprint(\"Median:\", median)\n\n# Standard deviation\nstd_dev = np.std(data)\nprint(\"Standard Deviation:\", std_dev)\n\n# Variance\nvariance = np.var(data)\nprint(\"Variance:\", variance)\n\n",
      "metadata": {
        "trusted": true
      },
      "outputs": [],
      "execution_count": null
    },
    {
      "cell_type": "code",
      "source": "## Logical operation\ndata=np.array([1,2,3,4,5,6,7,8,9,10])\n\ndata[(data>=5) & (data<=8)]",
      "metadata": {
        "trusted": true
      },
      "outputs": [],
      "execution_count": null
    },
    {
      "cell_type": "code",
      "source": "",
      "metadata": {
        "trusted": true
      },
      "outputs": [],
      "execution_count": null
    },
    {
      "cell_type": "code",
      "source": "",
      "metadata": {
        "trusted": true
      },
      "outputs": [],
      "execution_count": null
    },
    {
      "cell_type": "code",
      "source": "",
      "metadata": {
        "trusted": true
      },
      "outputs": [],
      "execution_count": null
    },
    {
      "cell_type": "code",
      "source": "",
      "metadata": {
        "trusted": true
      },
      "outputs": [],
      "execution_count": null
    },
    {
      "cell_type": "code",
      "source": "",
      "metadata": {
        "trusted": true
      },
      "outputs": [],
      "execution_count": null
    },
    {
      "cell_type": "code",
      "source": "",
      "metadata": {
        "trusted": true
      },
      "outputs": [],
      "execution_count": null
    },
    {
      "cell_type": "code",
      "source": "",
      "metadata": {
        "trusted": true
      },
      "outputs": [],
      "execution_count": null
    }
  ]
}