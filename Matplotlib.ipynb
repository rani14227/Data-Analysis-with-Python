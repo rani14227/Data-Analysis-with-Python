{
  "metadata": {
    "kernelspec": {
      "name": "python",
      "display_name": "Python (Pyodide)",
      "language": "python"
    },
    "language_info": {
      "codemirror_mode": {
        "name": "ipython",
        "version": 3
      },
      "file_extension": ".py",
      "mimetype": "text/x-python",
      "name": "python",
      "nbconvert_exporter": "python",
      "pygments_lexer": "ipython3",
      "version": "3.12.0"
    }
  },
  "nbformat_minor": 4,
  "nbformat": 4,
  "cells": [
    {
      "cell_type": "markdown",
      "source": "#### Data Visualization With Matplotlib\n\nMatplotlib is a powerful plotting library for Python that enables the creation of static, animated, and interactive visualizations. It is widely used for data visualization in data science and analytics. In this lesson, we will cover the basics of Matplotlib, including creating various types of plots and customizing them.",
      "metadata": {}
    },
    {
      "cell_type": "code",
      "source": "!pip install matplotlib",
      "metadata": {
        "trusted": true
      },
      "outputs": [],
      "execution_count": null
    },
    {
      "cell_type": "code",
      "source": "import matplotlib.pyplot as plt",
      "metadata": {
        "trusted": true
      },
      "outputs": [],
      "execution_count": null
    },
    {
      "cell_type": "code",
      "source": "x=[1,2,3,4,5]\ny=[1,4,9,16,25]\n\n##create a line plot\nplt.plot(x,y)\nplt.xlabel('X axis')\nplt.ylabel('Y Axis')\nplt.title(\"Basic Line Plot\")\nplt.show()",
      "metadata": {
        "trusted": true
      },
      "outputs": [],
      "execution_count": null
    },
    {
      "cell_type": "code",
      "source": "x=[1,2,3,4,5]\ny=[1,4,9,16,25]\n\n##create a customized line plot\n\nplt.plot(x,y,color='red',linestyle='--',marker='o',linewidth=3,markersize=9)\nplt.grid(True)\n",
      "metadata": {
        "trusted": true
      },
      "outputs": [],
      "execution_count": null
    },
    {
      "cell_type": "code",
      "source": "## Multiple Plots\n## Sample data\nx = [1, 2, 3, 4, 5]\ny1 = [1, 4, 9, 16, 25]\ny2 = [1, 2, 3, 4, 5]\n\nplt.figure(figsize=(9,5))\n\nplt.subplot(2,2,1)\nplt.plot(x,y1,color='green')\nplt.title(\"Plot 1\")\n\nplt.subplot(2,2,2)\nplt.plot(y1,x,color='red')\nplt.title(\"Plot 2\")\n\nplt.subplot(2,2,3)\nplt.plot(x,y2,color='blue')\nplt.title(\"Plot 3\")\n\nplt.subplot(2,2,4)\nplt.plot(x,y2,color='green')\nplt.title(\"Plot 4\")\n",
      "metadata": {
        "trusted": true
      },
      "outputs": [],
      "execution_count": null
    },
    {
      "cell_type": "code",
      "source": "###Bar Plor\ncategories=['A','B','C','D','E']\nvalues=[5,7,3,8,6]\n\n##create a bar plot\nplt.bar(categories,values,color='purple')\nplt.xlabel('Categories')\nplt.ylabel('Values')\nplt.title('Bar Plot')\nplt.show()",
      "metadata": {
        "trusted": true
      },
      "outputs": [],
      "execution_count": null
    },
    {
      "cell_type": "markdown",
      "source": "#### Histograms\nHistograms are used to represent the distribution of a dataset. They divide the data into bins and count the number of data points in each bin.",
      "metadata": {}
    },
    {
      "cell_type": "code",
      "source": "# Sample data\ndata = [1, 2, 2, 3, 3, 3, 4, 4, 4, 4, 5, 5, 5, 5, 5]\n\n##create a histogram\nplt.hist(data,bins=5,color='orange',edgecolor='black')",
      "metadata": {
        "trusted": true
      },
      "outputs": [],
      "execution_count": null
    },
    {
      "cell_type": "code",
      "source": "##create a scatter plot\n# Sample data\nx = [1, 2, 3, 4, 5]\ny = [2, 3, 4, 5, 6]\n\nplt.scatter(x,y,color=\"blue\",marker='x')",
      "metadata": {
        "trusted": true
      },
      "outputs": [],
      "execution_count": null
    },
    {
      "cell_type": "code",
      "source": "### pie chart\n\nlabels=['A','B','C','D']\nsizes=[30,20,40,10]\ncolors=['gold','yellowgreen','lightcoral','lightskyblue']\nexplode=(0.2,0,0,0) ##move out the 1st slice\n\n##create apie chart\nplt.pie(sizes,explode=explode,labels=labels,colors=colors,autopct=\"%1.1f%%\",shadow=True)",
      "metadata": {
        "trusted": true
      },
      "outputs": [],
      "execution_count": null
    },
    {
      "cell_type": "code",
      "source": "## Sales Data Visualization\nimport pandas as pd\nsales_data_df=pd.read_csv('sales_data.csv')\nsales_data_df.head(5)",
      "metadata": {
        "trusted": true
      },
      "outputs": [],
      "execution_count": null
    },
    {
      "cell_type": "code",
      "source": "sales_data_df.info()",
      "metadata": {
        "trusted": true
      },
      "outputs": [],
      "execution_count": null
    },
    {
      "cell_type": "code",
      "source": "## plot total sales by products\ntotal_sales_by_product=sales_data_df.groupby('Product Category')['Total Revenue'].sum()\nprint(total_sales_by_product)",
      "metadata": {
        "trusted": true
      },
      "outputs": [],
      "execution_count": null
    },
    {
      "cell_type": "code",
      "source": "total_sales_by_product.plot(kind='bar',color='teal')",
      "metadata": {
        "trusted": true
      },
      "outputs": [],
      "execution_count": null
    },
    {
      "cell_type": "code",
      "source": "## plot sales trend over time\nsales_trend=sales_data_df.groupby('Date')['Total Revenue'].sum().reset_index()\nplt.plot(sales_trend['Date'],sales_trend['Total Revenue'])",
      "metadata": {
        "trusted": true
      },
      "outputs": [],
      "execution_count": null
    },
    {
      "cell_type": "code",
      "source": "",
      "metadata": {
        "trusted": true
      },
      "outputs": [],
      "execution_count": null
    },
    {
      "cell_type": "code",
      "source": "",
      "metadata": {
        "trusted": true
      },
      "outputs": [],
      "execution_count": null
    }
  ]
}